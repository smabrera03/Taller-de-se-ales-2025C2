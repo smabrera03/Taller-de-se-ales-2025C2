{
 "cells": [
  {
   "cell_type": "markdown",
   "id": "d777f75d",
   "metadata": {},
   "source": [
    "# LISTAS\n",
    "\n",
    "Podes meter cualquier tipo de dato. Python es una joda"
   ]
  },
  {
   "cell_type": "code",
   "execution_count": 10,
   "id": "53543f24",
   "metadata": {},
   "outputs": [
    {
     "name": "stdout",
     "output_type": "stream",
     "text": [
      "['Hola', 'TPS', 456, 3.14159]\n",
      "<class 'list'>\n",
      "3.14159\n",
      "['Hola', 'TPS', 456, 'Python es una joda']\n"
     ]
    }
   ],
   "source": [
    "listas1 = [\"Hola\", \"TPS\", 456, 3.14159]\n",
    "print(listas1)\n",
    "print(type(listas1))\n",
    "print(listas1[3])\n",
    "\n",
    "listas1[3] = \"Python es una joda\"\n",
    "\n",
    "print(listas1)\n"
   ]
  },
  {
   "cell_type": "markdown",
   "id": "4d11985a",
   "metadata": {},
   "source": [
    "# TUPLA\n",
    "La tupla que te parió"
   ]
  },
  {
   "cell_type": "code",
   "execution_count": 15,
   "id": "733690a5",
   "metadata": {},
   "outputs": [
    {
     "name": "stdout",
     "output_type": "stream",
     "text": [
      "('hola', 'tps', 456)\n",
      "<class 'tuple'>\n"
     ]
    },
    {
     "ename": "TypeError",
     "evalue": "'tuple' object does not support item assignment",
     "output_type": "error",
     "traceback": [
      "\u001b[1;31m---------------------------------------------------------------------------\u001b[0m",
      "\u001b[1;31mTypeError\u001b[0m                                 Traceback (most recent call last)",
      "Cell \u001b[1;32mIn[15], line 4\u001b[0m\n\u001b[0;32m      2\u001b[0m \u001b[38;5;28mprint\u001b[39m(tupla1)\n\u001b[0;32m      3\u001b[0m \u001b[38;5;28mprint\u001b[39m(\u001b[38;5;28mtype\u001b[39m(tupla1))\n\u001b[1;32m----> 4\u001b[0m \u001b[43mtupla1\u001b[49m\u001b[43m[\u001b[49m\u001b[38;5;241;43m0\u001b[39;49m\u001b[43m]\u001b[49m \u001b[38;5;241m=\u001b[39m \u001b[38;5;124m\"\u001b[39m\u001b[38;5;124mChau\u001b[39m\u001b[38;5;124m\"\u001b[39m\n",
      "\u001b[1;31mTypeError\u001b[0m: 'tuple' object does not support item assignment"
     ]
    }
   ],
   "source": [
    "tupla1 = (\"hola\", \"tps\", 456)\n",
    "print(tupla1)\n",
    "print(type(tupla1))\n",
    "tupla1[0] = \"Chau\""
   ]
  },
  {
   "cell_type": "markdown",
   "id": "bd8f51ed",
   "metadata": {},
   "source": [
    "\"object does not support item assignment\"\n",
    "\n",
    "Una vez escrita la tupla, no se puede reescribir."
   ]
  },
  {
   "cell_type": "markdown",
   "id": "83be0ed1",
   "metadata": {},
   "source": [
    "# Diccionario\n",
    "\n",
    "Si bien no lo vamos a usar tanto, pero puede ser útil"
   ]
  },
  {
   "cell_type": "code",
   "execution_count": 19,
   "id": "f5569d7d",
   "metadata": {},
   "outputs": [
    {
     "name": "stdout",
     "output_type": "stream",
     "text": [
      "{'clave0': 'valor0', 'clave1': 345}\n",
      "valor0\n",
      "345\n"
     ]
    }
   ],
   "source": [
    "diccio1 = {\"clave0\" : \"valor0\", \"clave1\" : 345}\n",
    "print(diccio1)\n",
    "print(diccio1[\"clave0\"])\n",
    "print(diccio1[\"clave1\"])"
   ]
  },
  {
   "cell_type": "markdown",
   "id": "68eae758",
   "metadata": {},
   "source": [
    "No es serio este lenguaje.\n",
    "\n",
    "\"Si bien pueden poner cualquier cosa como key, la cosa que pongas como key debe ser inmutable\""
   ]
  },
  {
   "cell_type": "markdown",
   "id": "c2a64bb6",
   "metadata": {},
   "source": [
    "# Slicing\n",
    "\n",
    "listas[start: stop: step]\n",
    "\n",
    "El último siempre es exclusivo"
   ]
  },
  {
   "cell_type": "code",
   "execution_count": null,
   "id": "b3edec9e",
   "metadata": {},
   "outputs": [
    {
     "name": "stdout",
     "output_type": "stream",
     "text": [
      "['Hola', 'TPS']\n",
      "['Hola', 'TPS', 456]\n",
      "['Hola', 456]\n",
      "[]\n",
      "['Python es una joda', 456, 'TPS']\n"
     ]
    }
   ],
   "source": [
    "print(listas1[0:2]) #del 0 al 2\n",
    "print(listas1[0:3]) #del 0 al 3\n",
    "print(listas1[0:3:2]) #del 0 al 3, dando saltos de a 2\n",
    "print(listas1[0:4:-1]) #???\n",
    "print(listas1[4:0:-1]) #imprime la lista al vesre"
   ]
  },
  {
   "cell_type": "markdown",
   "id": "e568ea24",
   "metadata": {},
   "source": [
    "# Numpy\n",
    "\n",
    "Este hijo de puta va a aparecer toda la materia"
   ]
  },
  {
   "cell_type": "code",
   "execution_count": 27,
   "id": "ccae173b",
   "metadata": {},
   "outputs": [],
   "source": [
    "import numpy as np"
   ]
  },
  {
   "cell_type": "code",
   "execution_count": 32,
   "id": "0c9f9464",
   "metadata": {},
   "outputs": [
    {
     "name": "stdout",
     "output_type": "stream",
     "text": [
      "[1, 2, 3, 4]\n",
      "[1 2 3 4]\n",
      "<class 'numpy.ndarray'>\n"
     ]
    }
   ],
   "source": [
    "lista2 = [1, 2, 3, 4]\n",
    "arr1 = np.array(lista2) #Para crear un array de numpy, hace falta una lista\n",
    "print(lista2)\n",
    "print(arr1)\n",
    "print(type(arr1))"
   ]
  },
  {
   "cell_type": "code",
   "execution_count": null,
   "id": "f30ee685",
   "metadata": {},
   "outputs": [
    {
     "data": {
      "text/plain": [
       "[1, 2, 3, 4, 1, 2, 3, 4]"
      ]
     },
     "execution_count": 35,
     "metadata": {},
     "output_type": "execute_result"
    }
   ],
   "source": [
    "lista2 * 2\n",
    "#multiplicar una lista significa concatenar la lista"
   ]
  },
  {
   "cell_type": "code",
   "execution_count": null,
   "id": "2c37f3fe",
   "metadata": {},
   "outputs": [
    {
     "data": {
      "text/plain": [
       "array([2, 4, 6, 8])"
      ]
     },
     "execution_count": 36,
     "metadata": {},
     "output_type": "execute_result"
    }
   ],
   "source": [
    "arr1 * 2\n",
    "#multiplicar un array es la multiplicación escalar de toda la vida"
   ]
  },
  {
   "cell_type": "markdown",
   "id": "b12b63b8",
   "metadata": {},
   "source": [
    "# Tensores\n",
    " \n",
    "Tensor: lista de matrices\n",
    "\n",
    "$\n",
    "T = [M_1, M_2 \\cdots M_n]\n",
    "$\n",
    "\n",
    "donde $M \\in \\R^{2 \\times 2}$\n",
    "\n",
    "No entendí por qué, pero el @ es tu amigo. Tiene que ver con multiplicación tensorial o algo así.\n",
    "\n",
    "Si usar un for, probablemente esté mal, usá un @"
   ]
  },
  {
   "cell_type": "code",
   "execution_count": null,
   "id": "1d4ecada",
   "metadata": {},
   "outputs": [],
   "source": []
  }
 ],
 "metadata": {
  "kernelspec": {
   "display_name": "Python 3",
   "language": "python",
   "name": "python3"
  },
  "language_info": {
   "codemirror_mode": {
    "name": "ipython",
    "version": 3
   },
   "file_extension": ".py",
   "mimetype": "text/x-python",
   "name": "python",
   "nbconvert_exporter": "python",
   "pygments_lexer": "ipython3",
   "version": "3.11.9"
  }
 },
 "nbformat": 4,
 "nbformat_minor": 5
}
